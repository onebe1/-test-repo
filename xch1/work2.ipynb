{
 "cells": [
  {
   "cell_type": "code",
   "execution_count": 1,
   "metadata": {},
   "outputs": [],
   "source": [
    "import numpy as np\n",
    "import pandas as pd\n",
    "import scipy as sp\n",
    "from pandas import Series, DataFrame, read_excel\n",
    "from scipy.stats import norm\n",
    "\n",
    "LogRet = read_excel('data.xlsx','Sheet1')\n",
    "\n",
    "confidence_level = 0.95\n",
    "alpha = norm.ppf(1 - confidence_level)"
   ]
  },
  {
   "cell_type": "code",
   "execution_count": 2,
   "metadata": {},
   "outputs": [
    {
     "data": {
      "text/plain": [
       "(290, 2)"
      ]
     },
     "execution_count": 2,
     "metadata": {},
     "output_type": "execute_result"
    }
   ],
   "source": [
    "np_LogRet = np.array(LogRet)\n",
    "np.shape(np_LogRet)"
   ]
  },
  {
   "cell_type": "code",
   "execution_count": 3,
   "metadata": {},
   "outputs": [
    {
     "name": "stderr",
     "output_type": "stream",
     "text": [
      "C:\\Users\\47308\\AppData\\Local\\Temp\\ipykernel_23408\\3739639757.py:2: DeprecationWarning: scipy.std is deprecated and will be removed in SciPy 2.0.0, use numpy.std instead\n",
      "  sigma_population = sp.std(np_Daily_Return)  #assuming population standard deviation\n"
     ]
    }
   ],
   "source": [
    "np_Daily_Return = np_LogRet[1:,1]\n",
    "sigma_population = sp.std(np_Daily_Return)  #assuming population standard deviation\n",
    "sigma_sample = sp.stats.tstd(np_Daily_Return)     #assuming sample standard deviation"
   ]
  },
  {
   "cell_type": "code",
   "execution_count": 4,
   "metadata": {},
   "outputs": [
    {
     "name": "stdout",
     "output_type": "stream",
     "text": [
      "analytical VaR= $ 11135268736.6463\n"
     ]
    }
   ],
   "source": [
    "VaR = -alpha*sigma_sample*10000000\n",
    "print('analytical VaR= $', round(VaR,4))"
   ]
  },
  {
   "cell_type": "code",
   "execution_count": 5,
   "metadata": {},
   "outputs": [
    {
     "name": "stdout",
     "output_type": "stream",
     "text": [
      "empirical VaR= $ 38605500000.0\n"
     ]
    }
   ],
   "source": [
    "sorted_ret = np.sort(np_Daily_Return)\n",
    "\n",
    "# you can also pandas to sort directly, as .sort_values()\n",
    "\n",
    "n = len(sorted_ret)\n",
    "t = int((1-confidence_level)*n)\n",
    "epsilon = (1-confidence_level)*n - t\n",
    "# if we interpolation\n",
    "VaR_historical = 10000000 * (sorted_ret[t]*(1-epsilon) +  sorted_ret[t+1]*epsilon)\n",
    "print('empirical VaR= $', round(VaR_historical, 4))"
   ]
  }
 ],
 "metadata": {
  "kernelspec": {
   "display_name": "base",
   "language": "python",
   "name": "python3"
  },
  "language_info": {
   "codemirror_mode": {
    "name": "ipython",
    "version": 3
   },
   "file_extension": ".py",
   "mimetype": "text/x-python",
   "name": "python",
   "nbconvert_exporter": "python",
   "pygments_lexer": "ipython3",
   "version": "3.8.10"
  },
  "orig_nbformat": 4
 },
 "nbformat": 4,
 "nbformat_minor": 2
}
